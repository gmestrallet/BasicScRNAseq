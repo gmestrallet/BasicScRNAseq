{
  "nbformat": 4,
  "nbformat_minor": 0,
  "metadata": {
    "colab": {
      "provenance": [],
      "authorship_tag": "ABX9TyMSSdrZeS0DGV7eLdIFtVcM",
      "include_colab_link": true
    },
    "kernelspec": {
      "name": "python3",
      "display_name": "Python 3"
    },
    "language_info": {
      "name": "python"
    }
  },
  "cells": [
    {
      "cell_type": "markdown",
      "metadata": {
        "id": "view-in-github",
        "colab_type": "text"
      },
      "source": [
        "<a href=\"https://colab.research.google.com/github/gmestrallet/BasicScRNAseq/blob/main/BasicScRNAseq.ipynb\" target=\"_parent\"><img src=\"https://colab.research.google.com/assets/colab-badge.svg\" alt=\"Open In Colab\"/></a>"
      ]
    },
    {
      "cell_type": "markdown",
      "source": [
        "This notebook demonstrates how to do basic scRNAseq analysis using scanpy with data stored in google drive."
      ],
      "metadata": {
        "id": "iX7mKRfy0f5m"
      }
    },
    {
      "cell_type": "code",
      "source": [
        "#Mount Google Drive to access your files, if they are stored there.\n",
        "from google.colab import drive\n",
        "drive.mount('/content/drive')"
      ],
      "metadata": {
        "id": "zkUEI6YjK36o"
      },
      "execution_count": null,
      "outputs": []
    },
    {
      "cell_type": "code",
      "source": [
        "#Set the path where you want to store the files (use your own directory).\n",
        "import os"
      ],
      "metadata": {
        "id": "MZx1ttbSMEEe"
      },
      "execution_count": null,
      "outputs": []
    },
    {
      "cell_type": "code",
      "source": [
        "#Replace 'RNAseq_folder' with the path to the folder in your Google Drive or use '/content/' for local storage.\n",
        "rna_seq_path = '/content/drive/My Drive/RNAseq_folder'\n",
        "os.chdir(rna_seq_path)"
      ],
      "metadata": {
        "id": "SGA7gHKAMENo"
      },
      "execution_count": null,
      "outputs": []
    },
    {
      "cell_type": "code",
      "source": [
        "#Create directories for your data and figures\n",
        "os.makedirs('data', exist_ok=True)  # Creates 'data' directory if it doesn't exist\n",
        "os.chdir('data')"
      ],
      "metadata": {
        "id": "NaCMk6z1MEUj"
      },
      "execution_count": null,
      "outputs": []
    },
    {
      "cell_type": "code",
      "source": [
        "#Create 'write' directory inside 'data'\n",
        "os.makedirs('write', exist_ok=True)"
      ],
      "metadata": {
        "id": "u8CKKdojMEY7"
      },
      "execution_count": null,
      "outputs": []
    },
    {
      "cell_type": "code",
      "source": [
        "#Install necessary libraries and import\n",
        "!pip install scanpy  # Make sure scanpy is installed\n",
        "!pip install igraph  # Make sure igraph is installed\n",
        "!pip install leidenalg  # Make sure leidenalg is installed\n",
        "import numpy as np\n",
        "import pandas as pd\n",
        "import scanpy as sc\n",
        "import matplotlib.pyplot as plt"
      ],
      "metadata": {
        "id": "PZ4UcjrcMfiw"
      },
      "execution_count": null,
      "outputs": []
    },
    {
      "cell_type": "code",
      "source": [
        "sc.settings.verbosity = 3             # verbosity: errors (0), warnings (1), info (2), hints (3)\n",
        "sc.logging.print_header()\n",
        "sc.settings.set_figure_params(dpi=80, facecolor='white')"
      ],
      "metadata": {
        "id": "fbXRQNsBIluy"
      },
      "execution_count": null,
      "outputs": []
    },
    {
      "cell_type": "code",
      "source": [
        "results_file = 'write/allcells.h5ad'  # the file that will store the analysis results"
      ],
      "metadata": {
        "id": "K4YRffjiIlyT"
      },
      "execution_count": null,
      "outputs": []
    },
    {
      "cell_type": "code",
      "source": [
        "#Open the file and reset index of cell and add a column with your condition name.\n",
        "adata = sc.read_10x_h5('/content/drive/My Drive/RNAseq_folder/sample_filtered_feature_bc_matrix.h5')\n",
        "adata.obs['your_condition'] = 'your_condition_name'\n",
        "adata.obs = adata.obs.reset_index()\n",
        "adata.obs['index'] = adata.obs['index']+'_'+adata.obs['your_condition'].astype(str)\n",
        "adata.obs = adata.obs.set_index('index')\n",
        "adata.var_names_make_unique()\n",
        "adata"
      ],
      "metadata": {
        "id": "kzE79ZBIIl1D"
      },
      "execution_count": null,
      "outputs": []
    },
    {
      "cell_type": "code",
      "source": [
        "#You can duplicate it for all your samples as below.\n",
        "adata2 = sc.read_10x_h5('/content/drive/My Drive/RNAseq_folder/2_sample_filtered_feature_bc_matrix.h5')\n",
        "adata2.obs['your_condition'] = 'your_condition_name_2'\n",
        "adata2.obs = adata2.obs.reset_index()\n",
        "adata2.obs['index'] = adata2.obs['index']+'_'+adata2.obs['your_condition'].astype(str)\n",
        "adata2.obs = adata2.obs.set_index('index')\n",
        "adata2.var_names_make_unique()\n",
        "adata2"
      ],
      "metadata": {
        "id": "L0cRjZzyIl4L"
      },
      "execution_count": null,
      "outputs": []
    },
    {
      "cell_type": "code",
      "source": [
        "#Add more adata objects if needed and concat them.\n",
        "combined_adata = sc.concat([adata, adata2])\n",
        "combined_adata"
      ],
      "metadata": {
        "id": "lYUYx4rHI4_7"
      },
      "execution_count": null,
      "outputs": []
    },
    {
      "cell_type": "code",
      "source": [
        "#Preprocessing.\n",
        "sc.pl.highest_expr_genes(combined_adata, n_top=20, )"
      ],
      "metadata": {
        "id": "grUSLZYjI5T7"
      },
      "execution_count": null,
      "outputs": []
    },
    {
      "cell_type": "code",
      "source": [
        "sc.pp.filter_cells(combined_adata, min_genes=200)\n",
        "sc.pp.filter_genes(combined_adata, min_cells=3)"
      ],
      "metadata": {
        "id": "39TOWmUeI5Wq"
      },
      "execution_count": null,
      "outputs": []
    },
    {
      "cell_type": "code",
      "source": [
        "combined_adata.var['mt'] = combined_adata.var_names.str.startswith('MT-')  # annotate the group of mitochondrial genes as 'mt'\n",
        "sc.pp.calculate_qc_metrics(combined_adata, qc_vars=['mt'], percent_top=None, log1p=False, inplace=True)"
      ],
      "metadata": {
        "id": "Rm3ub3x1I5ZS"
      },
      "execution_count": null,
      "outputs": []
    },
    {
      "cell_type": "code",
      "source": [
        "sc.pl.violin(combined_adata, ['n_genes_by_counts', 'total_counts', 'pct_counts_mt'],\n",
        "             jitter=0.4, multi_panel=True)"
      ],
      "metadata": {
        "id": "RSG5R8htI5cF"
      },
      "execution_count": null,
      "outputs": []
    },
    {
      "cell_type": "code",
      "source": [
        "#Remove cells that have too many mitochondrial genes expressed or too many total counts.\n",
        "sc.pl.scatter(combined_adata, x='total_counts', y='pct_counts_mt')\n",
        "sc.pl.scatter(combined_adata, x='total_counts', y='n_genes_by_counts')"
      ],
      "metadata": {
        "id": "fSzOU8lqI5e-"
      },
      "execution_count": null,
      "outputs": []
    },
    {
      "cell_type": "code",
      "source": [
        "#Remove cells that have too many mitochondrial genes expressed or too many total counts.\n",
        "sc.pl.scatter(combined_adata, x='total_counts', y='pct_counts_mt')\n",
        "sc.pl.scatter(combined_adata, x='total_counts', y='n_genes_by_counts')"
      ],
      "metadata": {
        "id": "Rf0fgyuMI5hU"
      },
      "execution_count": null,
      "outputs": []
    },
    {
      "cell_type": "code",
      "source": [
        "#Actually do the filtering by slicing the AnnData object.\n",
        "combined_adata = combined_adata[combined_adata.obs.n_genes_by_counts < 6000, :]\n",
        "combined_adata = combined_adata[combined_adata.obs.pct_counts_mt < 5, :]"
      ],
      "metadata": {
        "id": "AO1qOZShI5ji"
      },
      "execution_count": null,
      "outputs": []
    },
    {
      "cell_type": "code",
      "source": [
        "#Total-count normalize (library-size correct) the data matrix to 10,000 reads per cell, so that counts become comparable among cells. You should change this number based on your data.\n",
        "sc.pp.normalize_total(combined_adata, target_sum=10000)"
      ],
      "metadata": {
        "id": "iyIkzO6lI5mT"
      },
      "execution_count": null,
      "outputs": []
    },
    {
      "cell_type": "code",
      "source": [
        "#Logarithmize the data.\n",
        "sc.pp.log1p(combined_adata)"
      ],
      "metadata": {
        "id": "JA58emfII5qi"
      },
      "execution_count": null,
      "outputs": []
    },
    {
      "cell_type": "code",
      "source": [
        "#Identify highly-variable genes.\n",
        "sc.pp.highly_variable_genes(combined_adata, min_mean=0.0125, max_mean=3, min_disp=0.5)"
      ],
      "metadata": {
        "id": "53Fzw5zVI5t0"
      },
      "execution_count": null,
      "outputs": []
    },
    {
      "cell_type": "code",
      "source": [
        "sc.pl.highly_variable_genes(combined_adata)"
      ],
      "metadata": {
        "id": "zYgqCYBSJN-j"
      },
      "execution_count": null,
      "outputs": []
    },
    {
      "cell_type": "code",
      "source": [
        "combined_adata.raw = combined_adata"
      ],
      "metadata": {
        "id": "0g-Sy9qzJOJj"
      },
      "execution_count": null,
      "outputs": []
    },
    {
      "cell_type": "code",
      "source": [
        "#Actually do the filtering.\n",
        "combined_adata = combined_adata[:, combined_adata.var.highly_variable]"
      ],
      "metadata": {
        "id": "0P4LIK6IJOML"
      },
      "execution_count": null,
      "outputs": []
    },
    {
      "cell_type": "code",
      "source": [
        "#Regress out effects of total counts per cell and the percentage of mitochondrial genes expressed. Scale the data to unit variance.\n",
        "sc.pp.regress_out(combined_adata, ['total_counts', 'pct_counts_mt'])"
      ],
      "metadata": {
        "id": "1v2Bi1EqJOO8"
      },
      "execution_count": null,
      "outputs": []
    },
    {
      "cell_type": "code",
      "source": [
        "#Scale each gene to unit variance. Clip values exceeding standard deviation 10.\n",
        "sc.pp.scale(combined_adata, max_value=10)"
      ],
      "metadata": {
        "id": "nO2n8GXEJORj"
      },
      "execution_count": null,
      "outputs": []
    },
    {
      "cell_type": "code",
      "source": [
        "#PCA and computing the neighborhood graph.\n",
        "sc.pp.pca(combined_adata)\n",
        "sc.pp.neighbors(combined_adata)\n",
        "sc.tl.umap(combined_adata)\n",
        "sc.pl.umap(combined_adata, color='your_condition')"
      ],
      "metadata": {
        "id": "s8jTftJoJOUm"
      },
      "execution_count": null,
      "outputs": []
    },
    {
      "cell_type": "code",
      "source": [
        "sc.tl.rank_genes_groups(combined_adata, groupby='your_condition')\n",
        "sc.pl.rank_genes_groups(combined_adata)"
      ],
      "metadata": {
        "id": "TTZ_aUvfJWa8"
      },
      "execution_count": null,
      "outputs": []
    },
    {
      "cell_type": "code",
      "source": [
        "sc.tl.pca(combined_adata, svd_solver='arpack')"
      ],
      "metadata": {
        "id": "tXOfvO6WJWjU"
      },
      "execution_count": null,
      "outputs": []
    },
    {
      "cell_type": "code",
      "source": [
        "#Choose a gene name in all capital letters if human gene. Keep first letter in capital and the other not if mouse gene.\n",
        "sc.pl.pca(combined_adata, color='Actb')"
      ],
      "metadata": {
        "id": "RrKLd9xJJWmM"
      },
      "execution_count": null,
      "outputs": []
    },
    {
      "cell_type": "code",
      "source": [
        "sc.pl.pca_variance_ratio(combined_adata, log=True)"
      ],
      "metadata": {
        "id": "PhvOmWa5JWo0"
      },
      "execution_count": null,
      "outputs": []
    },
    {
      "cell_type": "code",
      "source": [
        "combined_adata.write(results_file)\n",
        "combined_adata"
      ],
      "metadata": {
        "id": "wgb2aeJzJWrl"
      },
      "execution_count": null,
      "outputs": []
    },
    {
      "cell_type": "code",
      "source": [
        "sc.pp.neighbors(combined_adata, n_neighbors=10, n_pcs=40)"
      ],
      "metadata": {
        "id": "WXYSCSSpJWuV"
      },
      "execution_count": null,
      "outputs": []
    },
    {
      "cell_type": "code",
      "source": [
        "sc.tl.umap(combined_adata)"
      ],
      "metadata": {
        "id": "zBNBUwAGJWxs"
      },
      "execution_count": null,
      "outputs": []
    },
    {
      "cell_type": "code",
      "source": [
        "#Choose a gene name in all capital letters if human gene. Keep first letter in capital and the other not if mouse gene.\n",
        "sc.pl.umap(combined_adata, color=['Cd3e', 'Vim'])"
      ],
      "metadata": {
        "id": "W8jqb7-HJW0_"
      },
      "execution_count": null,
      "outputs": []
    },
    {
      "cell_type": "code",
      "source": [
        "#Clustering the neighborhood graph.\n",
        "sc.tl.leiden(combined_adata)"
      ],
      "metadata": {
        "id": "xxWwr-SRJges"
      },
      "execution_count": null,
      "outputs": []
    },
    {
      "cell_type": "code",
      "source": [
        "#Choose a gene name in all capital letters if human gene. Keep first letter in capital and the other not if mouse gene.\n",
        "sc.pl.umap(combined_adata, color=['leiden','Cd3e'])"
      ],
      "metadata": {
        "id": "88_eBZCkJghE"
      },
      "execution_count": null,
      "outputs": []
    },
    {
      "cell_type": "code",
      "source": [
        "combined_adata.write(results_file)"
      ],
      "metadata": {
        "id": "ySidNV0IJgj4"
      },
      "execution_count": null,
      "outputs": []
    },
    {
      "cell_type": "code",
      "source": [
        "sc.settings.verbosity = 2  # reduce the verbosity"
      ],
      "metadata": {
        "id": "VlSK0wGAJgmT"
      },
      "execution_count": null,
      "outputs": []
    },
    {
      "cell_type": "code",
      "source": [
        "#Finding marker genes and ompute a ranking for the highly differential genes in each cluster.\n",
        "sc.tl.rank_genes_groups(combined_adata, 'leiden', method='wilcoxon')\n",
        "sc.pl.rank_genes_groups(combined_adata, n_genes=25, sharey=False)"
      ],
      "metadata": {
        "id": "WTUrB44WJgo4"
      },
      "execution_count": null,
      "outputs": []
    },
    {
      "cell_type": "code",
      "source": [
        "combined_adata.write(results_file)"
      ],
      "metadata": {
        "id": "1a7ykev9Jgrk"
      },
      "execution_count": null,
      "outputs": []
    },
    {
      "cell_type": "code",
      "source": [
        "#Replace with your genes of interest to anotate your clusters.\n",
        "marker_genes = ['Ptprc','B2m']"
      ],
      "metadata": {
        "id": "Kpfv-56VJrDU"
      },
      "execution_count": null,
      "outputs": []
    },
    {
      "cell_type": "code",
      "source": [
        "#Reload the object that has been save with the Wilcoxon Rank-Sum test result.\n",
        "combined_adata = sc.read(results_file)\n",
        "combined_adata.uns['log1p'][\"base\"] = None"
      ],
      "metadata": {
        "id": "9QcZXIWlJrJ-"
      },
      "execution_count": null,
      "outputs": []
    },
    {
      "cell_type": "code",
      "source": [
        "#Show the 10 top ranked genes per cluster 0, 1, …, 7 in a dataframe.\n",
        "pd.DataFrame(combined_adata.uns['rank_genes_groups']['names']).head(10)"
      ],
      "metadata": {
        "id": "Lv-phup5JrMc"
      },
      "execution_count": null,
      "outputs": []
    },
    {
      "cell_type": "code",
      "source": [
        "#Get a table with the scores and groups.\n",
        "result = combined_adata.uns['rank_genes_groups']\n",
        "groups = result['names'].dtype.names\n",
        "pd.DataFrame(\n",
        "    {group + '_' + key[:1]: result[key][group]\n",
        "    for group in groups for key in ['names', 'pvals']}).head(5)"
      ],
      "metadata": {
        "id": "Cab1I00UJrPF"
      },
      "execution_count": null,
      "outputs": []
    },
    {
      "cell_type": "code",
      "source": [
        "#If you want to compare a certain gene across groups, use the following.\n",
        "sc.pl.violin(combined_adata, ['Ptprc','B2m'], groupby=\"leiden\")"
      ],
      "metadata": {
        "id": "MRns_jDZJrRd"
      },
      "execution_count": null,
      "outputs": []
    },
    {
      "cell_type": "code",
      "source": [
        "#Actually mark the cell types. Replace with your new cluster names.\n",
        "new_cluster_names = [\"CD4 T\",\"B\",\"Monocytes\",\"NK\",\"CD8 T\"]\n",
        "combined_adata.rename_categories(\"leiden\", new_cluster_names)"
      ],
      "metadata": {
        "id": "OubyAasuJrUQ"
      },
      "execution_count": null,
      "outputs": []
    },
    {
      "cell_type": "code",
      "source": [
        "#Save figure.\n",
        "sc.pl.umap(\n",
        "    combined_adata, color=\"leiden\", legend_loc=\"on data\", title=\"\", frameon=False, save=\".pdf\"\n",
        ")"
      ],
      "metadata": {
        "id": "_foeOBn6JrW3"
      },
      "execution_count": null,
      "outputs": []
    },
    {
      "cell_type": "code",
      "source": [
        "#Now that we annotated the cell types, let us visualize the marker genes.\n",
        "sc.pl.dotplot(combined_adata, marker_genes, groupby='leiden', title='', save='.png');"
      ],
      "metadata": {
        "id": "RKlWeCVzJrZ1"
      },
      "execution_count": null,
      "outputs": []
    },
    {
      "cell_type": "code",
      "source": [
        "combined_adata"
      ],
      "metadata": {
        "id": "Dqkm757CJrcn"
      },
      "execution_count": null,
      "outputs": []
    },
    {
      "cell_type": "code",
      "source": [
        "combined_adata.write(results_file, compression='gzip')  # `compression='gzip'` saves disk space, but slows down writing and subsequent reading."
      ],
      "metadata": {
        "id": "L0rG1qVdJrfm"
      },
      "execution_count": null,
      "outputs": []
    },
    {
      "cell_type": "code",
      "source": [
        "combined_adata.raw.to_adata().write('./write/allcells_withoutX.h5ad')"
      ],
      "metadata": {
        "id": "ILUDIIr4J6Hu"
      },
      "execution_count": null,
      "outputs": []
    }
  ]
}